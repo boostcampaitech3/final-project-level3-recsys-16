{
 "cells": [
  {
   "cell_type": "markdown",
   "metadata": {},
   "source": [
    "# OCR API 결과 시각화"
   ]
  },
  {
   "cell_type": "markdown",
   "metadata": {},
   "source": [
    "## import"
   ]
  },
  {
   "cell_type": "code",
   "execution_count": null,
   "metadata": {},
   "outputs": [],
   "source": [
    "import os, json\n",
    "import requests\n",
    "\n",
    "from PIL import Image\n",
    "\n",
    "import matplotlib.pyplot as plt\n",
    "import matplotlib.patches as patches"
   ]
  },
  {
   "cell_type": "markdown",
   "metadata": {},
   "source": [
    "## 기본변수 선언"
   ]
  },
  {
   "cell_type": "code",
   "execution_count": null,
   "metadata": {},
   "outputs": [],
   "source": [
    "IMG_PATH = 'img'\n",
    "SECRET_PATH = '.secret'\n",
    "RES_PATH = 'res'"
   ]
  },
  {
   "cell_type": "markdown",
   "metadata": {},
   "source": [
    "## API 사용해보기"
   ]
  },
  {
   "cell_type": "code",
   "execution_count": null,
   "metadata": {},
   "outputs": [],
   "source": [
    "secret_file = os.path.join(SECRET_PATH, 'key.json')\n",
    "\n",
    "with open(secret_file) as f:\n",
    "    secrets = json.loads(f.read())\n",
    "\n",
    "if not os.path.isdir(RES_PATH): os.mkdir(RES_PATH)\n",
    "\n",
    "api_url = secrets['API_URL']\n",
    "secret_key = secrets['SECRET_KEY']\n",
    "\n",
    "headers = {\"secret\": secret_key}"
   ]
  },
  {
   "cell_type": "code",
   "execution_count": null,
   "metadata": {},
   "outputs": [],
   "source": [
    "file_list = os.listdir(IMG_PATH)\n",
    "file_list_img = [file for file in file_list if file.split('.')[-1] in ['jpg', 'png', 'jpeg']]\n",
    "\n",
    "for file_img in file_list_img:\n",
    "    img_path = os.path.join(IMG_PATH, file_img)\n",
    "    file_dict = {\"file\": open(img_path, \"rb\")}\n",
    "    response = requests.post(api_url, headers=headers, files=file_dict).json()\n",
    "    with open(os.path.join(RES_PATH, f'{file_img}_res.json'), 'w') as outfile:\n",
    "        json.dump(response, outfile)"
   ]
  },
  {
   "cell_type": "code",
   "execution_count": null,
   "metadata": {},
   "outputs": [],
   "source": [
    "fig, ax = plt.subplots(len(file_list_img), 1, figsize=(6, 6*len(file_list_img)))\n",
    "ax = ax.flatten()\n",
    "for i in range(len(ax)):\n",
    "    img_path = os.path.join(IMG_PATH, file_list_img[i])\n",
    "    img = Image.open(img_path, 'r')\n",
    "    ocr_list = []\n",
    "    ax[i].imshow(img)\n",
    "\n",
    "    with open(os.path.join(RES_PATH, f'{file_list_img[i]}_res.json')) as f:\n",
    "        img_patch = json.loads(f.read())\n",
    "    \n",
    "    # patch\n",
    "    for patch in img_patch['ocr']['word']:\n",
    "        x_pos = [x for x, _ in patch['points']]\n",
    "        y_pos = [y for _, y in patch['points']]\n",
    "        base_pos = min(x_pos), min(y_pos)\n",
    "        width = max(x_pos) - min(x_pos)\n",
    "        height = max(y_pos) - min(y_pos)\n",
    "        rect = patches.Rectangle(base_pos, \n",
    "                            width, height, \n",
    "                            linewidth=1, edgecolor='r', facecolor='red', alpha=0.3)\n",
    "\n",
    "        ax[i].add_patch(rect)\n",
    "        ax[i].axis('off')\n",
    "        ocr_list.append(patch['text'])"
   ]
  },
  {
   "cell_type": "code",
   "execution_count": null,
   "metadata": {},
   "outputs": [],
   "source": []
  }
 ],
 "metadata": {
  "interpreter": {
   "hash": "d4d1e4263499bec80672ea0156c357c1ee493ec2b1c70f0acce89fc37c4a6abe"
  },
  "kernelspec": {
   "display_name": "Python 3.8.5 ('base')",
   "language": "python",
   "name": "python3"
  },
  "language_info": {
   "codemirror_mode": {
    "name": "ipython",
    "version": 3
   },
   "file_extension": ".py",
   "mimetype": "text/x-python",
   "name": "python",
   "nbconvert_exporter": "python",
   "pygments_lexer": "ipython3",
   "version": "3.8.5"
  },
  "orig_nbformat": 4
 },
 "nbformat": 4,
 "nbformat_minor": 2
}
