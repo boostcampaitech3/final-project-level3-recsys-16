{
 "cells": [
  {
   "cell_type": "code",
   "execution_count": 1,
   "id": "8d0f284f-0098-4c87-9227-18df9514ecc1",
   "metadata": {},
   "outputs": [],
   "source": [
    "import random\n",
    "import pandas as pd\n",
    "import pickle\n",
    "import re"
   ]
  },
  {
   "cell_type": "code",
   "execution_count": 3,
   "id": "cf3264d8-e6b7-4f64-a381-b78af8892a58",
   "metadata": {},
   "outputs": [
    {
     "data": {
      "text/plain": [
       "43"
      ]
     },
     "execution_count": 3,
     "metadata": {},
     "output_type": "execute_result"
    }
   ],
   "source": [
    "random.randint(0,100)"
   ]
  },
  {
   "cell_type": "code",
   "execution_count": 2,
   "id": "e2151ffd-3e40-4989-9b9f-fcebb480ce74",
   "metadata": {},
   "outputs": [
    {
     "name": "stdout",
     "output_type": "stream",
     "text": [
      "032 4290 7577\n"
     ]
    }
   ],
   "source": [
    "local_num = ['02','051','053','032', '062','042','052','044','031','033','043','041','063','061','054','055','064','070']\n",
    "print(random.choice(local_num) + ' ' + str(random.randint(100,10000)) + ' ' + str(random.randint(1000,10000)))"
   ]
  },
  {
   "cell_type": "code",
   "execution_count": 32,
   "id": "c6b02477-1a41-435a-86e3-9dd0659f9577",
   "metadata": {},
   "outputs": [
    {
     "name": "stdout",
     "output_type": "stream",
     "text": [
      "010 9173 7658\n"
     ]
    }
   ],
   "source": [
    "print('010' + ' ' + str(random.randint(1,10000)).zfill(4) + ' ' + str(random.randint(1,10000)).zfill(4))"
   ]
  },
  {
   "cell_type": "code",
   "execution_count": 3,
   "id": "bc2eb4cd-625b-48f6-a3df-706bfa8e5ce0",
   "metadata": {},
   "outputs": [
    {
     "name": "stdout",
     "output_type": "stream",
     "text": [
      ".eaJ8fURT.K5@nate.com\n"
     ]
    }
   ],
   "source": [
    "email = ['@gmail.com','@outlook.kr', '@outlook.com', '@hotmail.com', '@icloud.com', '@mac.com', '@me.com', '@naver.com', '@hanmail.net',\n",
    "        '@daum.net', '@nate.com', '@kakao.com', '@citizen.seoul.kr', '@yahoo.co.jp', '@yahoo.com', '@yandex.com', '@yandex.ru']\n",
    "def account():\n",
    "    id = ''\n",
    "    n = random.randint(5,21)\n",
    "    i = 0\n",
    "    cand = list('abcdefghizklmnopqrstuvwxyzABCDEFGHIJKLMNOPQRSTUVWXYZ0123456789_-.')\n",
    "    while i!=n:\n",
    "        id+=random.choice(cand)\n",
    "        i+=1\n",
    "    return id\n",
    "print(account() + random.choice(email))"
   ]
  },
  {
   "cell_type": "code",
   "execution_count": 268,
   "id": "9895c396-2279-4e71-ab2d-247595950a66",
   "metadata": {},
   "outputs": [
    {
     "name": "stderr",
     "output_type": "stream",
     "text": [
      "/opt/conda/lib/python3.8/site-packages/openpyxl/worksheet/_reader.py:312: UserWarning: Unknown extension is not supported and will be removed\n",
      "  warn(msg)\n",
      "/opt/conda/lib/python3.8/site-packages/openpyxl/worksheet/_reader.py:312: UserWarning: Conditional Formatting extension is not supported and will be removed\n",
      "  warn(msg)\n"
     ]
    }
   ],
   "source": [
    "name = pd.read_excel('이름_2008-2019.xlsx')"
   ]
  },
  {
   "cell_type": "code",
   "execution_count": 270,
   "id": "64bb9097-7479-4744-ab23-102be350ef49",
   "metadata": {},
   "outputs": [
    {
     "data": {
      "text/html": [
       "<div>\n",
       "<style scoped>\n",
       "    .dataframe tbody tr th:only-of-type {\n",
       "        vertical-align: middle;\n",
       "    }\n",
       "\n",
       "    .dataframe tbody tr th {\n",
       "        vertical-align: top;\n",
       "    }\n",
       "\n",
       "    .dataframe thead th {\n",
       "        text-align: right;\n",
       "    }\n",
       "</style>\n",
       "<table border=\"1\" class=\"dataframe\">\n",
       "  <thead>\n",
       "    <tr style=\"text-align: right;\">\n",
       "      <th></th>\n",
       "      <th>음절</th>\n",
       "      <th>M 출생</th>\n",
       "      <th>M 개명</th>\n",
       "      <th>F 출생</th>\n",
       "      <th>F 개명</th>\n",
       "      <th>남성적 : 여성적</th>\n",
       "      <th>동명이인</th>\n",
       "      <th>6327237</th>\n",
       "    </tr>\n",
       "  </thead>\n",
       "  <tbody>\n",
       "    <tr>\n",
       "      <th>count</th>\n",
       "      <td>64020.000000</td>\n",
       "      <td>37054.000000</td>\n",
       "      <td>17055.000000</td>\n",
       "      <td>27254.000000</td>\n",
       "      <td>16215.000000</td>\n",
       "      <td>64019.000000</td>\n",
       "      <td>64020.000000</td>\n",
       "      <td>6.402000e+04</td>\n",
       "    </tr>\n",
       "    <tr>\n",
       "      <th>mean</th>\n",
       "      <td>2.994767</td>\n",
       "      <td>71.991607</td>\n",
       "      <td>22.203987</td>\n",
       "      <td>92.588171</td>\n",
       "      <td>46.720506</td>\n",
       "      <td>-0.067240</td>\n",
       "      <td>98.832193</td>\n",
       "      <td>1.559422e-05</td>\n",
       "    </tr>\n",
       "    <tr>\n",
       "      <th>std</th>\n",
       "      <td>1.379838</td>\n",
       "      <td>705.796857</td>\n",
       "      <td>121.299273</td>\n",
       "      <td>893.392475</td>\n",
       "      <td>308.116125</td>\n",
       "      <td>0.466252</td>\n",
       "      <td>1015.214494</td>\n",
       "      <td>1.598911e-04</td>\n",
       "    </tr>\n",
       "    <tr>\n",
       "      <th>min</th>\n",
       "      <td>1.000000</td>\n",
       "      <td>1.000000</td>\n",
       "      <td>1.000000</td>\n",
       "      <td>1.000000</td>\n",
       "      <td>0.000000</td>\n",
       "      <td>-0.500000</td>\n",
       "      <td>0.000000</td>\n",
       "      <td>0.000000e+00</td>\n",
       "    </tr>\n",
       "    <tr>\n",
       "      <th>25%</th>\n",
       "      <td>2.000000</td>\n",
       "      <td>1.000000</td>\n",
       "      <td>1.000000</td>\n",
       "      <td>1.000000</td>\n",
       "      <td>1.000000</td>\n",
       "      <td>-0.500000</td>\n",
       "      <td>1.000000</td>\n",
       "      <td>1.580468e-07</td>\n",
       "    </tr>\n",
       "    <tr>\n",
       "      <th>50%</th>\n",
       "      <td>2.000000</td>\n",
       "      <td>1.000000</td>\n",
       "      <td>2.000000</td>\n",
       "      <td>1.000000</td>\n",
       "      <td>2.000000</td>\n",
       "      <td>-0.396296</td>\n",
       "      <td>1.000000</td>\n",
       "      <td>1.580468e-07</td>\n",
       "    </tr>\n",
       "    <tr>\n",
       "      <th>75%</th>\n",
       "      <td>4.000000</td>\n",
       "      <td>5.000000</td>\n",
       "      <td>6.000000</td>\n",
       "      <td>3.000000</td>\n",
       "      <td>6.000000</td>\n",
       "      <td>0.500000</td>\n",
       "      <td>4.000000</td>\n",
       "      <td>6.321871e-07</td>\n",
       "    </tr>\n",
       "    <tr>\n",
       "      <th>max</th>\n",
       "      <td>17.000000</td>\n",
       "      <td>37006.000000</td>\n",
       "      <td>4200.000000</td>\n",
       "      <td>34446.000000</td>\n",
       "      <td>9183.000000</td>\n",
       "      <td>0.500000</td>\n",
       "      <td>45618.000000</td>\n",
       "      <td>7.158173e-03</td>\n",
       "    </tr>\n",
       "  </tbody>\n",
       "</table>\n",
       "</div>"
      ],
      "text/plain": [
       "                 음절          M 출생          M 개명          F 출생          F 개명  \\\n",
       "count  64020.000000  37054.000000  17055.000000  27254.000000  16215.000000   \n",
       "mean       2.994767     71.991607     22.203987     92.588171     46.720506   \n",
       "std        1.379838    705.796857    121.299273    893.392475    308.116125   \n",
       "min        1.000000      1.000000      1.000000      1.000000      0.000000   \n",
       "25%        2.000000      1.000000      1.000000      1.000000      1.000000   \n",
       "50%        2.000000      1.000000      2.000000      1.000000      2.000000   \n",
       "75%        4.000000      5.000000      6.000000      3.000000      6.000000   \n",
       "max       17.000000  37006.000000   4200.000000  34446.000000   9183.000000   \n",
       "\n",
       "          남성적 : 여성적          동명이인       6327237  \n",
       "count  64019.000000  64020.000000  6.402000e+04  \n",
       "mean      -0.067240     98.832193  1.559422e-05  \n",
       "std        0.466252   1015.214494  1.598911e-04  \n",
       "min       -0.500000      0.000000  0.000000e+00  \n",
       "25%       -0.500000      1.000000  1.580468e-07  \n",
       "50%       -0.396296      1.000000  1.580468e-07  \n",
       "75%        0.500000      4.000000  6.321871e-07  \n",
       "max        0.500000  45618.000000  7.158173e-03  "
      ]
     },
     "execution_count": 270,
     "metadata": {},
     "output_type": "execute_result"
    }
   ],
   "source": [
    "name.describe()"
   ]
  },
  {
   "cell_type": "code",
   "execution_count": 282,
   "id": "b3772239-6a3b-4fe8-9a19-60bb46ab0357",
   "metadata": {},
   "outputs": [],
   "source": [
    "name = name[name[6327237]>=0.0000005]"
   ]
  },
  {
   "cell_type": "code",
   "execution_count": 283,
   "id": "d956eadd-c6a2-4e2f-bfb1-a85f6f6eec45",
   "metadata": {},
   "outputs": [],
   "source": [
    "first_name_list = name['이름'].tolist()"
   ]
  },
  {
   "cell_type": "code",
   "execution_count": 285,
   "id": "42ce3ea7-f443-4913-97e9-90826eeef3f9",
   "metadata": {},
   "outputs": [],
   "source": [
    "f = open(\"first_name_list.pickle\",\"wb\")\n",
    "pickle.dump(first_name_list,f)\n",
    "f.close()"
   ]
  },
  {
   "cell_type": "code",
   "execution_count": 87,
   "id": "7c6f520f-ca20-4f6c-b83b-472e035f7ec1",
   "metadata": {},
   "outputs": [],
   "source": [
    "last_name = pd.read_excel('한국 성씨.xlsx', header = None)"
   ]
  },
  {
   "cell_type": "code",
   "execution_count": 97,
   "id": "b17d1ffb-c836-4a7b-be57-2b2723dd03be",
   "metadata": {},
   "outputs": [],
   "source": [
    "last_name_list = last_name[1].map(lambda x: re.match('[가-힣]+',x).group(0)).to_list()"
   ]
  },
  {
   "cell_type": "code",
   "execution_count": 98,
   "id": "7d0798b8-8026-4b0e-a740-23bdce770a03",
   "metadata": {},
   "outputs": [],
   "source": [
    "f = open(\"last_name_list.pickle\",\"wb\")\n",
    "pickle.dump(last_name_list,f)\n",
    "f.close()"
   ]
  },
  {
   "cell_type": "code",
   "execution_count": 327,
   "id": "4cc65f9a-941c-423c-84da-4598d9d595f5",
   "metadata": {},
   "outputs": [
    {
     "name": "stdout",
     "output_type": "stream",
     "text": [
      "사호룡\n"
     ]
    }
   ],
   "source": [
    "print(random.choice(last_name_list) + random.choice(first_name_list))"
   ]
  },
  {
   "cell_type": "code",
   "execution_count": 329,
   "id": "21702d60-a770-450b-ae3a-6eeb07e9387a",
   "metadata": {},
   "outputs": [],
   "source": [
    "position_list = ['명예회장','회장','부회장','사장','부사장','전무이사','상무이사','이사','부장','차장','과장','계장','대리','주임','사원','인턴','CEO','CAO','CCO',\n",
    "           'CFO','CIO','CKO','COO','CPO','CRO','CSO','CTO','GM','CM','General Maneger', 'Country Manager', '수석 연구원', '책임 연구원', '전임 연구원',\n",
    "           '선임 연구원', '주임 연구원', '연구원', '프로', 'PRO','원장']"
   ]
  },
  {
   "cell_type": "code",
   "execution_count": 330,
   "id": "f0612903-95b3-4243-9f80-759664042b2c",
   "metadata": {},
   "outputs": [],
   "source": [
    "f = open(\"position_list.pickle\",\"wb\")\n",
    "pickle.dump(position_list,f)\n",
    "f.close()"
   ]
  },
  {
   "cell_type": "code",
   "execution_count": 4,
   "id": "b74a59b2-cdcf-43ea-88b4-6abf641950c3",
   "metadata": {},
   "outputs": [],
   "source": [
    "with open(\"first_name_list.pickle\",\"rb\") as f:\n",
    "    first_name_list = pickle.load(f)\n",
    "with open(\"last_name_list.pickle\",\"rb\") as f:\n",
    "    last_name_list = pickle.load(f)\n",
    "with open(\"position_list.pickle\",\"rb\") as f:\n",
    "    position_list = pickle.load(f)\n"
   ]
  },
  {
   "cell_type": "code",
   "execution_count": 10,
   "id": "26c9c45b-37da-4162-98eb-facd5befed80",
   "metadata": {},
   "outputs": [
    {
     "name": "stdout",
     "output_type": "stream",
     "text": [
      "TEL: 042 5101 7330\n",
      "핸드폰: 010 0555 2642\n",
      "이메일: NhYMCWI@hanmail.net\n",
      "이름: 선우희남\n",
      "직책: CPO\n"
     ]
    }
   ],
   "source": [
    "print('TEL:', random.choice(local_num) + ' ' + str(random.randint(100,10000)) + ' ' + str(random.randint(1000,10000)))\n",
    "print('핸드폰:','010' + ' ' + str(random.randint(1,10000)).zfill(4) + ' ' + str(random.randint(1,10000)).zfill(4))\n",
    "print('이메일:', account() + random.choice(email))\n",
    "print('이름:', random.choice(last_name_list) + random.choice(first_name_list))\n",
    "print('직책:',random.choice(position_list))"
   ]
  },
  {
   "cell_type": "code",
   "execution_count": null,
   "id": "7f76064c-095e-482f-9432-4b7defe385df",
   "metadata": {},
   "outputs": [],
   "source": []
  },
  {
   "cell_type": "code",
   "execution_count": null,
   "id": "800b0c4e-0c7f-400e-a957-664beeed1e01",
   "metadata": {},
   "outputs": [],
   "source": []
  }
 ],
 "metadata": {
  "kernelspec": {
   "display_name": "Python 3 (ipykernel)",
   "language": "python",
   "name": "python3"
  },
  "language_info": {
   "codemirror_mode": {
    "name": "ipython",
    "version": 3
   },
   "file_extension": ".py",
   "mimetype": "text/x-python",
   "name": "python",
   "nbconvert_exporter": "python",
   "pygments_lexer": "ipython3",
   "version": "3.8.5"
  }
 },
 "nbformat": 4,
 "nbformat_minor": 5
}
